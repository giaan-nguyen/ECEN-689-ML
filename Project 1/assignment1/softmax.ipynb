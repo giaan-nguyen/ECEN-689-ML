{
 "cells": [
  {
   "cell_type": "markdown",
   "metadata": {
    "tags": [
     "pdf-title"
    ]
   },
   "source": [
    "# Softmax exercise\n",
    "\n",
    "*Complete and hand in this completed worksheet (including its outputs and any supporting code outside of the worksheet) with your assignment submission. For more details see the [assignments page](http://vision.stanford.edu/teaching/cs231n/assignments.html) on the course website.*\n",
    "\n",
    "This exercise is analogous to the SVM exercise. You will:\n",
    "\n",
    "- implement a fully-vectorized **loss function** for the Softmax classifier\n",
    "- implement the fully-vectorized expression for its **analytic gradient**\n",
    "- **check your implementation** with numerical gradient\n",
    "- use a validation set to **tune the learning rate and regularization** strength\n",
    "- **optimize** the loss function with **SGD**\n",
    "- **visualize** the final learned weights\n"
   ]
  },
  {
   "cell_type": "code",
   "execution_count": 1,
   "metadata": {
    "tags": [
     "pdf-ignore"
    ]
   },
   "outputs": [],
   "source": [
    "import random\n",
    "import numpy as np\n",
    "from cs231n.data_utils import load_CIFAR10\n",
    "import matplotlib.pyplot as plt\n",
    "\n",
    "%matplotlib inline\n",
    "plt.rcParams['figure.figsize'] = (10.0, 8.0) # set default size of plots\n",
    "plt.rcParams['image.interpolation'] = 'nearest'\n",
    "plt.rcParams['image.cmap'] = 'gray'\n",
    "\n",
    "# for auto-reloading extenrnal modules\n",
    "# see http://stackoverflow.com/questions/1907993/autoreload-of-modules-in-ipython\n",
    "%load_ext autoreload\n",
    "%autoreload 2"
   ]
  },
  {
   "cell_type": "code",
   "execution_count": 2,
   "metadata": {
    "tags": [
     "pdf-ignore"
    ]
   },
   "outputs": [
    {
     "name": "stdout",
     "output_type": "stream",
     "text": [
      "Train data shape:  (49000, 3073)\n",
      "Train labels shape:  (49000,)\n",
      "Validation data shape:  (1000, 3073)\n",
      "Validation labels shape:  (1000,)\n",
      "Test data shape:  (1000, 3073)\n",
      "Test labels shape:  (1000,)\n",
      "dev data shape:  (500, 3073)\n",
      "dev labels shape:  (500,)\n"
     ]
    }
   ],
   "source": [
    "def get_CIFAR10_data(num_training=49000, num_validation=1000, num_test=1000, num_dev=500):\n",
    "    \"\"\"\n",
    "    Load the CIFAR-10 dataset from disk and perform preprocessing to prepare\n",
    "    it for the linear classifier. These are the same steps as we used for the\n",
    "    SVM, but condensed to a single function.  \n",
    "    \"\"\"\n",
    "    # Load the raw CIFAR-10 data\n",
    "    cifar10_dir = 'cs231n/datasets/cifar-10-batches-py'\n",
    "    \n",
    "    # Cleaning up variables to prevent loading data multiple times (which may cause memory issue)\n",
    "    try:\n",
    "       del X_train, y_train\n",
    "       del X_test, y_test\n",
    "       print('Clear previously loaded data.')\n",
    "    except:\n",
    "       pass\n",
    "\n",
    "    X_train, y_train, X_test, y_test = load_CIFAR10(cifar10_dir)\n",
    "    \n",
    "    # subsample the data\n",
    "    mask = list(range(num_training, num_training + num_validation))\n",
    "    X_val = X_train[mask]\n",
    "    y_val = y_train[mask]\n",
    "    mask = list(range(num_training))\n",
    "    X_train = X_train[mask]\n",
    "    y_train = y_train[mask]\n",
    "    mask = list(range(num_test))\n",
    "    X_test = X_test[mask]\n",
    "    y_test = y_test[mask]\n",
    "    mask = np.random.choice(num_training, num_dev, replace=False)\n",
    "    X_dev = X_train[mask]\n",
    "    y_dev = y_train[mask]\n",
    "    \n",
    "    # Preprocessing: reshape the image data into rows\n",
    "    X_train = np.reshape(X_train, (X_train.shape[0], -1))\n",
    "    X_val = np.reshape(X_val, (X_val.shape[0], -1))\n",
    "    X_test = np.reshape(X_test, (X_test.shape[0], -1))\n",
    "    X_dev = np.reshape(X_dev, (X_dev.shape[0], -1))\n",
    "    \n",
    "    # Normalize the data: subtract the mean image\n",
    "    mean_image = np.mean(X_train, axis = 0)\n",
    "    X_train -= mean_image\n",
    "    X_val -= mean_image\n",
    "    X_test -= mean_image\n",
    "    X_dev -= mean_image\n",
    "    \n",
    "    # add bias dimension and transform into columns\n",
    "    X_train = np.hstack([X_train, np.ones((X_train.shape[0], 1))])\n",
    "    X_val = np.hstack([X_val, np.ones((X_val.shape[0], 1))])\n",
    "    X_test = np.hstack([X_test, np.ones((X_test.shape[0], 1))])\n",
    "    X_dev = np.hstack([X_dev, np.ones((X_dev.shape[0], 1))])\n",
    "    \n",
    "    return X_train, y_train, X_val, y_val, X_test, y_test, X_dev, y_dev\n",
    "\n",
    "\n",
    "# Invoke the above function to get our data.\n",
    "X_train, y_train, X_val, y_val, X_test, y_test, X_dev, y_dev = get_CIFAR10_data()\n",
    "print('Train data shape: ', X_train.shape)\n",
    "print('Train labels shape: ', y_train.shape)\n",
    "print('Validation data shape: ', X_val.shape)\n",
    "print('Validation labels shape: ', y_val.shape)\n",
    "print('Test data shape: ', X_test.shape)\n",
    "print('Test labels shape: ', y_test.shape)\n",
    "print('dev data shape: ', X_dev.shape)\n",
    "print('dev labels shape: ', y_dev.shape)"
   ]
  },
  {
   "cell_type": "markdown",
   "metadata": {},
   "source": [
    "## Softmax Classifier\n",
    "\n",
    "Your code for this section will all be written inside **cs231n/classifiers/softmax.py**. \n"
   ]
  },
  {
   "cell_type": "code",
   "execution_count": 3,
   "metadata": {},
   "outputs": [
    {
     "name": "stdout",
     "output_type": "stream",
     "text": [
      "loss: 2.385763\n",
      "sanity check: 2.302585\n"
     ]
    }
   ],
   "source": [
    "# First implement the naive softmax loss function with nested loops.\n",
    "# Open the file cs231n/classifiers/softmax.py and implement the\n",
    "# softmax_loss_naive function.\n",
    "\n",
    "from cs231n.classifiers.softmax import softmax_loss_naive\n",
    "import time\n",
    "\n",
    "# Generate a random softmax weight matrix and use it to compute the loss.\n",
    "W = np.random.randn(3073, 10) * 0.0001\n",
    "loss, grad = softmax_loss_naive(W, X_dev, y_dev, 0.0)\n",
    "\n",
    "# As a rough sanity check, our loss should be something close to -log(0.1).\n",
    "print('loss: %f' % loss)\n",
    "print('sanity check: %f' % (-np.log(0.1)))"
   ]
  },
  {
   "cell_type": "markdown",
   "metadata": {
    "tags": [
     "pdf-inline"
    ]
   },
   "source": [
    "**Inline Question 1**\n",
    "\n",
    "Why do we expect our loss to be close to -log(0.1)? Explain briefly.**\n",
    "\n",
    "$\\color{blue}{\\textit Your Answer:}$ The softmax loss is defined to be -log(P(yi|xi;W)). Since there are 10 classes and the initial weights are chosen at random, then each class initially has equal likelihood such that the probability of correctly classifying a class is 1/10 = 0.1. Therefore, we expect the loss to be close to -log(0.1).\n",
    "\n"
   ]
  },
  {
   "cell_type": "code",
   "execution_count": 4,
   "metadata": {},
   "outputs": [
    {
     "name": "stdout",
     "output_type": "stream",
     "text": [
      "numerical: 0.862437 analytic: 0.862437, relative error: 3.711271e-08\n",
      "numerical: 0.208802 analytic: 0.208802, relative error: 1.749898e-08\n",
      "numerical: 0.832031 analytic: 0.832031, relative error: 4.588139e-09\n",
      "numerical: 0.665039 analytic: 0.665039, relative error: 7.611483e-09\n",
      "numerical: -0.481478 analytic: -0.481478, relative error: 8.556931e-09\n",
      "numerical: -5.289315 analytic: -5.289315, relative error: 6.768208e-09\n",
      "numerical: 1.154145 analytic: 1.154145, relative error: 2.287613e-08\n",
      "numerical: -0.734469 analytic: -0.734469, relative error: 2.146581e-08\n",
      "numerical: -8.460170 analytic: -8.460170, relative error: 2.348529e-10\n",
      "numerical: 0.180038 analytic: 0.180038, relative error: 1.071484e-07\n",
      "numerical: -0.239792 analytic: -0.239792, relative error: 1.565800e-07\n",
      "numerical: 0.213138 analytic: 0.213138, relative error: 4.779823e-08\n",
      "numerical: 1.707588 analytic: 1.707588, relative error: 3.698267e-08\n",
      "numerical: 0.291072 analytic: 0.291072, relative error: 5.555279e-08\n",
      "numerical: 1.899432 analytic: 1.899432, relative error: 8.128326e-09\n",
      "numerical: -0.438490 analytic: -0.438490, relative error: 2.111835e-08\n",
      "numerical: 1.008526 analytic: 1.008526, relative error: 4.364769e-09\n",
      "numerical: 0.523370 analytic: 0.523370, relative error: 1.522162e-07\n",
      "numerical: 1.308077 analytic: 1.308077, relative error: 6.912932e-09\n",
      "numerical: -2.064013 analytic: -2.064013, relative error: 4.694443e-09\n"
     ]
    }
   ],
   "source": [
    "# Complete the implementation of softmax_loss_naive and implement a (naive)\n",
    "# version of the gradient that uses nested loops.\n",
    "loss, grad = softmax_loss_naive(W, X_dev, y_dev, 0.0)\n",
    "\n",
    "# As we did for the SVM, use numeric gradient checking as a debugging tool.\n",
    "# The numeric gradient should be close to the analytic gradient.\n",
    "from cs231n.gradient_check import grad_check_sparse\n",
    "f = lambda w: softmax_loss_naive(w, X_dev, y_dev, 0.0)[0]\n",
    "grad_numerical = grad_check_sparse(f, W, grad, 10)\n",
    "\n",
    "# similar to SVM case, do another gradient check with regularization\n",
    "loss, grad = softmax_loss_naive(W, X_dev, y_dev, 5e1)\n",
    "f = lambda w: softmax_loss_naive(w, X_dev, y_dev, 5e1)[0]\n",
    "grad_numerical = grad_check_sparse(f, W, grad, 10)"
   ]
  },
  {
   "cell_type": "code",
   "execution_count": 5,
   "metadata": {},
   "outputs": [
    {
     "name": "stdout",
     "output_type": "stream",
     "text": [
      "naive loss: 2.385763e+00 computed in 0.260615s\n",
      "vectorized loss: 2.385763e+00 computed in 0.009688s\n",
      "Loss difference: 0.000000\n",
      "Gradient difference: 0.000000\n"
     ]
    }
   ],
   "source": [
    "# Now that we have a naive implementation of the softmax loss function and its gradient,\n",
    "# implement a vectorized version in softmax_loss_vectorized.\n",
    "# The two versions should compute the same results, but the vectorized version should be\n",
    "# much faster.\n",
    "tic = time.time()\n",
    "loss_naive, grad_naive = softmax_loss_naive(W, X_dev, y_dev, 0.000005)\n",
    "toc = time.time()\n",
    "print('naive loss: %e computed in %fs' % (loss_naive, toc - tic))\n",
    "\n",
    "from cs231n.classifiers.softmax import softmax_loss_vectorized\n",
    "tic = time.time()\n",
    "loss_vectorized, grad_vectorized = softmax_loss_vectorized(W, X_dev, y_dev, 0.000005)\n",
    "toc = time.time()\n",
    "print('vectorized loss: %e computed in %fs' % (loss_vectorized, toc - tic))\n",
    "\n",
    "# As we did for the SVM, we use the Frobenius norm to compare the two versions\n",
    "# of the gradient.\n",
    "grad_difference = np.linalg.norm(grad_naive - grad_vectorized, ord='fro')\n",
    "print('Loss difference: %f' % np.abs(loss_naive - loss_vectorized))\n",
    "print('Gradient difference: %f' % grad_difference)"
   ]
  },
  {
   "cell_type": "code",
   "execution_count": 6,
   "metadata": {
    "tags": [
     "code"
    ]
   },
   "outputs": [
    {
     "name": "stdout",
     "output_type": "stream",
     "text": [
      "lr 7.500000e-08 reg 1.500000e+04 train accuracy: 0.320857 val accuracy: 0.328000\n",
      "lr 7.500000e-08 reg 1.750000e+04 train accuracy: 0.327122 val accuracy: 0.335000\n",
      "lr 7.500000e-08 reg 2.000000e+04 train accuracy: 0.324980 val accuracy: 0.340000\n",
      "lr 7.500000e-08 reg 2.250000e+04 train accuracy: 0.332082 val accuracy: 0.344000\n",
      "lr 7.500000e-08 reg 2.500000e+04 train accuracy: 0.325959 val accuracy: 0.345000\n",
      "lr 7.500000e-08 reg 2.750000e+04 train accuracy: 0.320816 val accuracy: 0.333000\n",
      "lr 7.500000e-08 reg 3.000000e+04 train accuracy: 0.323673 val accuracy: 0.339000\n",
      "lr 1.000000e-07 reg 1.500000e+04 train accuracy: 0.339490 val accuracy: 0.350000\n",
      "lr 1.000000e-07 reg 1.750000e+04 train accuracy: 0.338490 val accuracy: 0.355000\n",
      "lr 1.000000e-07 reg 2.000000e+04 train accuracy: 0.334735 val accuracy: 0.360000\n",
      "lr 1.000000e-07 reg 2.250000e+04 train accuracy: 0.330694 val accuracy: 0.351000\n",
      "lr 1.000000e-07 reg 2.500000e+04 train accuracy: 0.333327 val accuracy: 0.344000\n",
      "lr 1.000000e-07 reg 2.750000e+04 train accuracy: 0.327959 val accuracy: 0.343000\n",
      "lr 1.000000e-07 reg 3.000000e+04 train accuracy: 0.325469 val accuracy: 0.342000\n",
      "lr 1.250000e-07 reg 1.500000e+04 train accuracy: 0.338694 val accuracy: 0.354000\n",
      "lr 1.250000e-07 reg 1.750000e+04 train accuracy: 0.344245 val accuracy: 0.361000\n",
      "lr 1.250000e-07 reg 2.000000e+04 train accuracy: 0.333673 val accuracy: 0.347000\n",
      "lr 1.250000e-07 reg 2.250000e+04 train accuracy: 0.334857 val accuracy: 0.349000\n",
      "lr 1.250000e-07 reg 2.500000e+04 train accuracy: 0.334571 val accuracy: 0.341000\n",
      "lr 1.250000e-07 reg 2.750000e+04 train accuracy: 0.327857 val accuracy: 0.345000\n",
      "lr 1.250000e-07 reg 3.000000e+04 train accuracy: 0.328000 val accuracy: 0.337000\n",
      "best validation accuracy achieved during cross-validation: 0.361000\n"
     ]
    }
   ],
   "source": [
    "# Use the validation set to tune hyperparameters (regularization strength and\n",
    "# learning rate). You should experiment with different ranges for the learning\n",
    "# rates and regularization strengths; if you are careful you should be able to\n",
    "# get a classification accuracy of over 0.35 on the validation set.\n",
    "from cs231n.classifiers import Softmax\n",
    "results = {}\n",
    "best_val = -1\n",
    "best_softmax = None\n",
    "learning_rates = [0.75e-7, 1e-7, 1.25e-7]\n",
    "regularization_strengths = [1.5e4, 1.75e4, 2e4, 2.25e4, 2.5e4, 2.75e4, 3e4]\n",
    "\n",
    "################################################################################\n",
    "# TODO:                                                                        #\n",
    "# Use the validation set to set the learning rate and regularization strength. #\n",
    "# This should be identical to the validation that you did for the SVM; save    #\n",
    "# the best trained softmax classifer in best_softmax.                          #\n",
    "################################################################################\n",
    "# *****START OF YOUR CODE (DO NOT DELETE/MODIFY THIS LINE)*****\n",
    "\n",
    "# Create the set of all possible (learning rate, regularization strength) combos\n",
    "hyperparams = [(i,j) for i in learning_rates for j in regularization_strengths]\n",
    "\n",
    "# Test each combo (i,j) on a training set\n",
    "for (i,j) in hyperparams:\n",
    "    # Create a Softmax model\n",
    "    sft_mx = Softmax()\n",
    "    # Train the model with hyperparameters (i,j)\n",
    "    train_loss = sft_mx.train(X_train, y_train, learning_rate = i, reg = j, num_iters = 1000)\n",
    "    # Get predictions for training set\n",
    "    y_pred_train = sft_mx.predict(X_train)\n",
    "    # Calculate the training accuracy due to prediction on training set\n",
    "    accur_train = np.mean(y_pred_train == y_train)\n",
    "    # Use the same model to get predictions for validation set\n",
    "    y_pred_val = sft_mx.predict(X_val)\n",
    "    # Calculate the validation accuracy due to prediction on validation set\n",
    "    accur_val = np.mean(y_pred_val == y_val)\n",
    "    # Store accuracy results\n",
    "    results[(i,j)] = (accur_train, accur_val)\n",
    "    # Update parameters for best Softmax if necessary\n",
    "    if accur_val > best_val:\n",
    "        best_val = accur_val\n",
    "        best_softmax = sft_mx\n",
    "\n",
    "# *****END OF YOUR CODE (DO NOT DELETE/MODIFY THIS LINE)*****\n",
    "    \n",
    "# Print out results.\n",
    "for lr, reg in sorted(results):\n",
    "    train_accuracy, val_accuracy = results[(lr, reg)]\n",
    "    print('lr %e reg %e train accuracy: %f val accuracy: %f' % (\n",
    "                lr, reg, train_accuracy, val_accuracy))\n",
    "    \n",
    "print('best validation accuracy achieved during cross-validation: %f' % best_val)"
   ]
  },
  {
   "cell_type": "code",
   "execution_count": 7,
   "metadata": {},
   "outputs": [
    {
     "name": "stdout",
     "output_type": "stream",
     "text": [
      "softmax on raw pixels final test set accuracy: 0.365000\n"
     ]
    }
   ],
   "source": [
    "# evaluate on test set\n",
    "# Evaluate the best softmax on test set\n",
    "y_test_pred = best_softmax.predict(X_test)\n",
    "test_accuracy = np.mean(y_test == y_test_pred)\n",
    "print('softmax on raw pixels final test set accuracy: %f' % (test_accuracy, ))"
   ]
  },
  {
   "cell_type": "markdown",
   "metadata": {
    "tags": [
     "pdf-inline"
    ]
   },
   "source": [
    "**Inline Question 2** - *True or False*\n",
    "\n",
    "Suppose the overall training loss is defined as the sum of the per-datapoint loss over all training examples. It is possible to add a new datapoint to a training set that would leave the SVM loss unchanged, but this is not the case with the Softmax classifier loss.\n",
    "\n",
    "$\\color{blue}{\\textit Your Answer:}$ True.\n",
    "\n",
    "\n",
    "$\\color{blue}{\\textit Your Explanation:}$ The softmax classifier loss incorporates the normalized class probabilities for each class via exponentials of each datapoint; therefore, by adding a new datapoint, we are changing the loss since a new exponential corresponding to the new datapoint would change the numerical calculation of the probabilities. On the contrary, SVM utilizes max-margin, which does not take into account the individual points p; that is, SVM only cares if points are within or outside of the margins.\n",
    "\n"
   ]
  },
  {
   "cell_type": "code",
   "execution_count": 8,
   "metadata": {},
   "outputs": [
    {
     "data": {
      "image/png": "[encoded data removed]",
      "text/plain": [
       "<Figure size 432x288 with 10 Axes>"
      ]
     },
     "metadata": {
      "needs_background": "light"
     },
     "output_type": "display_data"
    }
   ],
   "source": [
    "# Visualize the learned weights for each class\n",
    "w = best_softmax.W[:-1,:] # strip out the bias\n",
    "w = w.reshape(32, 32, 3, 10)\n",
    "\n",
    "w_min, w_max = np.min(w), np.max(w)\n",
    "\n",
    "classes = ['plane', 'car', 'bird', 'cat', 'deer', 'dog', 'frog', 'horse', 'ship', 'truck']\n",
    "for i in range(10):\n",
    "    plt.subplot(2, 5, i + 1)\n",
    "    \n",
    "    # Rescale the weights to be between 0 and 255\n",
    "    wimg = 255.0 * (w[:, :, :, i].squeeze() - w_min) / (w_max - w_min)\n",
    "    plt.imshow(wimg.astype('uint8'))\n",
    "    plt.axis('off')\n",
    "    plt.title(classes[i])"
   ]
  },
  {
   "cell_type": "code",
   "execution_count": null,
   "metadata": {},
   "outputs": [],
   "source": []
  }
 ],
 "metadata": {
  "kernelspec": {
   "display_name": "Python 3",
   "language": "python",
   "name": "python3"
  },
  "language_info": {
   "codemirror_mode": {
    "name": "ipython",
    "version": 3
   },
   "file_extension": ".py",
   "mimetype": "text/x-python",
   "name": "python",
   "nbconvert_exporter": "python",
   "pygments_lexer": "ipython3",
   "version": "3.7.4"
  }
 },
 "nbformat": 4,
 "nbformat_minor": 1
}
