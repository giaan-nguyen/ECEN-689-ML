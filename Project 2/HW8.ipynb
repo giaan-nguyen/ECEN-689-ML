{
 "cells": [
  {
   "cell_type": "markdown",
   "metadata": {},
   "source": [
    "**In this Notebook we work on Titanic passengers database and make predictions on their survival. We use scikit-learn package, please feel free to learn classification in scikit from here https://scikit-learn.org/stable/supervised_learning.html#supervised-learning\n",
    "Most of the functions needed for the homework are in the notebook, please look at the arguments for each function and play with them to improve your understanding**\n",
    "\n"
   ]
  },
  {
   "cell_type": "code",
   "execution_count": 1,
   "metadata": {},
   "outputs": [],
   "source": [
    "from __future__ import absolute_import, division, print_function, unicode_literals\n",
    "\n",
    "import numpy as np\n",
    "import pandas as pd\n",
    "from IPython.display import clear_output\n",
    "from matplotlib import pyplot as plt\n",
    "from sklearn.ensemble import AdaBoostClassifier\n",
    "from sklearn.tree import DecisionTreeClassifier\n",
    "from sklearn.svm import SVC\n",
    "from sklearn import metrics\n",
    "# Load dataset.\n",
    "dftrain = pd.read_csv('https://storage.googleapis.com/tf-datasets/titanic/train.csv')\n",
    "dfeval = pd.read_csv('https://storage.googleapis.com/tf-datasets/titanic/eval.csv')\n",
    "y_train = dftrain.pop('survived')\n",
    "y_eval = dfeval.pop('survived')\n"
   ]
  },
  {
   "cell_type": "code",
   "execution_count": 2,
   "metadata": {},
   "outputs": [
    {
     "data": {
      "text/html": [
       "<div>\n",
       "<style scoped>\n",
       "    .dataframe tbody tr th:only-of-type {\n",
       "        vertical-align: middle;\n",
       "    }\n",
       "\n",
       "    .dataframe tbody tr th {\n",
       "        vertical-align: top;\n",
       "    }\n",
       "\n",
       "    .dataframe thead th {\n",
       "        text-align: right;\n",
       "    }\n",
       "</style>\n",
       "<table border=\"1\" class=\"dataframe\">\n",
       "  <thead>\n",
       "    <tr style=\"text-align: right;\">\n",
       "      <th></th>\n",
       "      <th>sex</th>\n",
       "      <th>age</th>\n",
       "      <th>n_siblings_spouses</th>\n",
       "      <th>parch</th>\n",
       "      <th>fare</th>\n",
       "      <th>class</th>\n",
       "      <th>deck</th>\n",
       "      <th>embark_town</th>\n",
       "      <th>alone</th>\n",
       "    </tr>\n",
       "  </thead>\n",
       "  <tbody>\n",
       "    <tr>\n",
       "      <td>0</td>\n",
       "      <td>male</td>\n",
       "      <td>22.0</td>\n",
       "      <td>1</td>\n",
       "      <td>0</td>\n",
       "      <td>7.2500</td>\n",
       "      <td>Third</td>\n",
       "      <td>unknown</td>\n",
       "      <td>Southampton</td>\n",
       "      <td>n</td>\n",
       "    </tr>\n",
       "    <tr>\n",
       "      <td>1</td>\n",
       "      <td>female</td>\n",
       "      <td>38.0</td>\n",
       "      <td>1</td>\n",
       "      <td>0</td>\n",
       "      <td>71.2833</td>\n",
       "      <td>First</td>\n",
       "      <td>C</td>\n",
       "      <td>Cherbourg</td>\n",
       "      <td>n</td>\n",
       "    </tr>\n",
       "    <tr>\n",
       "      <td>2</td>\n",
       "      <td>female</td>\n",
       "      <td>26.0</td>\n",
       "      <td>0</td>\n",
       "      <td>0</td>\n",
       "      <td>7.9250</td>\n",
       "      <td>Third</td>\n",
       "      <td>unknown</td>\n",
       "      <td>Southampton</td>\n",
       "      <td>y</td>\n",
       "    </tr>\n",
       "    <tr>\n",
       "      <td>3</td>\n",
       "      <td>female</td>\n",
       "      <td>35.0</td>\n",
       "      <td>1</td>\n",
       "      <td>0</td>\n",
       "      <td>53.1000</td>\n",
       "      <td>First</td>\n",
       "      <td>C</td>\n",
       "      <td>Southampton</td>\n",
       "      <td>n</td>\n",
       "    </tr>\n",
       "    <tr>\n",
       "      <td>4</td>\n",
       "      <td>male</td>\n",
       "      <td>28.0</td>\n",
       "      <td>0</td>\n",
       "      <td>0</td>\n",
       "      <td>8.4583</td>\n",
       "      <td>Third</td>\n",
       "      <td>unknown</td>\n",
       "      <td>Queenstown</td>\n",
       "      <td>y</td>\n",
       "    </tr>\n",
       "  </tbody>\n",
       "</table>\n",
       "</div>"
      ],
      "text/plain": [
       "      sex   age  n_siblings_spouses  parch     fare  class     deck  \\\n",
       "0    male  22.0                   1      0   7.2500  Third  unknown   \n",
       "1  female  38.0                   1      0  71.2833  First        C   \n",
       "2  female  26.0                   0      0   7.9250  Third  unknown   \n",
       "3  female  35.0                   1      0  53.1000  First        C   \n",
       "4    male  28.0                   0      0   8.4583  Third  unknown   \n",
       "\n",
       "   embark_town alone  \n",
       "0  Southampton     n  \n",
       "1    Cherbourg     n  \n",
       "2  Southampton     y  \n",
       "3  Southampton     n  \n",
       "4   Queenstown     y  "
      ]
     },
     "execution_count": 2,
     "metadata": {},
     "output_type": "execute_result"
    }
   ],
   "source": [
    "dftrain.head()\n"
   ]
  },
  {
   "cell_type": "markdown",
   "metadata": {},
   "source": [
    "**Explore the dataset by looking at the features. For improving the accuracy you can play with features as well, if you feel some of the features are not needed, you can drop them**"
   ]
  },
  {
   "cell_type": "code",
   "execution_count": 3,
   "metadata": {},
   "outputs": [
    {
     "data": {
      "text/html": [
       "<div>\n",
       "<style scoped>\n",
       "    .dataframe tbody tr th:only-of-type {\n",
       "        vertical-align: middle;\n",
       "    }\n",
       "\n",
       "    .dataframe tbody tr th {\n",
       "        vertical-align: top;\n",
       "    }\n",
       "\n",
       "    .dataframe thead th {\n",
       "        text-align: right;\n",
       "    }\n",
       "</style>\n",
       "<table border=\"1\" class=\"dataframe\">\n",
       "  <thead>\n",
       "    <tr style=\"text-align: right;\">\n",
       "      <th></th>\n",
       "      <th>sex</th>\n",
       "      <th>age</th>\n",
       "      <th>n_siblings_spouses</th>\n",
       "      <th>parch</th>\n",
       "      <th>fare</th>\n",
       "      <th>class</th>\n",
       "      <th>deck</th>\n",
       "      <th>embark_town</th>\n",
       "      <th>alone</th>\n",
       "    </tr>\n",
       "  </thead>\n",
       "  <tbody>\n",
       "    <tr>\n",
       "      <td>0</td>\n",
       "      <td>male</td>\n",
       "      <td>35.0</td>\n",
       "      <td>0</td>\n",
       "      <td>0</td>\n",
       "      <td>8.0500</td>\n",
       "      <td>Third</td>\n",
       "      <td>unknown</td>\n",
       "      <td>Southampton</td>\n",
       "      <td>y</td>\n",
       "    </tr>\n",
       "    <tr>\n",
       "      <td>1</td>\n",
       "      <td>male</td>\n",
       "      <td>54.0</td>\n",
       "      <td>0</td>\n",
       "      <td>0</td>\n",
       "      <td>51.8625</td>\n",
       "      <td>First</td>\n",
       "      <td>E</td>\n",
       "      <td>Southampton</td>\n",
       "      <td>y</td>\n",
       "    </tr>\n",
       "    <tr>\n",
       "      <td>2</td>\n",
       "      <td>female</td>\n",
       "      <td>58.0</td>\n",
       "      <td>0</td>\n",
       "      <td>0</td>\n",
       "      <td>26.5500</td>\n",
       "      <td>First</td>\n",
       "      <td>C</td>\n",
       "      <td>Southampton</td>\n",
       "      <td>y</td>\n",
       "    </tr>\n",
       "    <tr>\n",
       "      <td>3</td>\n",
       "      <td>female</td>\n",
       "      <td>55.0</td>\n",
       "      <td>0</td>\n",
       "      <td>0</td>\n",
       "      <td>16.0000</td>\n",
       "      <td>Second</td>\n",
       "      <td>unknown</td>\n",
       "      <td>Southampton</td>\n",
       "      <td>y</td>\n",
       "    </tr>\n",
       "    <tr>\n",
       "      <td>4</td>\n",
       "      <td>male</td>\n",
       "      <td>34.0</td>\n",
       "      <td>0</td>\n",
       "      <td>0</td>\n",
       "      <td>13.0000</td>\n",
       "      <td>Second</td>\n",
       "      <td>D</td>\n",
       "      <td>Southampton</td>\n",
       "      <td>y</td>\n",
       "    </tr>\n",
       "  </tbody>\n",
       "</table>\n",
       "</div>"
      ],
      "text/plain": [
       "      sex   age  n_siblings_spouses  parch     fare   class     deck  \\\n",
       "0    male  35.0                   0      0   8.0500   Third  unknown   \n",
       "1    male  54.0                   0      0  51.8625   First        E   \n",
       "2  female  58.0                   0      0  26.5500   First        C   \n",
       "3  female  55.0                   0      0  16.0000  Second  unknown   \n",
       "4    male  34.0                   0      0  13.0000  Second        D   \n",
       "\n",
       "   embark_town alone  \n",
       "0  Southampton     y  \n",
       "1  Southampton     y  \n",
       "2  Southampton     y  \n",
       "3  Southampton     y  \n",
       "4  Southampton     y  "
      ]
     },
     "execution_count": 3,
     "metadata": {},
     "output_type": "execute_result"
    }
   ],
   "source": [
    "dfeval.head()"
   ]
  },
  {
   "cell_type": "markdown",
   "metadata": {},
   "source": [
    "**Analyse the dataset, here you find the count, statistics of dataset**"
   ]
  },
  {
   "cell_type": "code",
   "execution_count": 4,
   "metadata": {},
   "outputs": [
    {
     "data": {
      "text/html": [
       "<div>\n",
       "<style scoped>\n",
       "    .dataframe tbody tr th:only-of-type {\n",
       "        vertical-align: middle;\n",
       "    }\n",
       "\n",
       "    .dataframe tbody tr th {\n",
       "        vertical-align: top;\n",
       "    }\n",
       "\n",
       "    .dataframe thead th {\n",
       "        text-align: right;\n",
       "    }\n",
       "</style>\n",
       "<table border=\"1\" class=\"dataframe\">\n",
       "  <thead>\n",
       "    <tr style=\"text-align: right;\">\n",
       "      <th></th>\n",
       "      <th>age</th>\n",
       "      <th>n_siblings_spouses</th>\n",
       "      <th>parch</th>\n",
       "      <th>fare</th>\n",
       "    </tr>\n",
       "  </thead>\n",
       "  <tbody>\n",
       "    <tr>\n",
       "      <td>count</td>\n",
       "      <td>627.000000</td>\n",
       "      <td>627.000000</td>\n",
       "      <td>627.000000</td>\n",
       "      <td>627.000000</td>\n",
       "    </tr>\n",
       "    <tr>\n",
       "      <td>mean</td>\n",
       "      <td>29.631308</td>\n",
       "      <td>0.545455</td>\n",
       "      <td>0.379585</td>\n",
       "      <td>34.385399</td>\n",
       "    </tr>\n",
       "    <tr>\n",
       "      <td>std</td>\n",
       "      <td>12.511818</td>\n",
       "      <td>1.151090</td>\n",
       "      <td>0.792999</td>\n",
       "      <td>54.597730</td>\n",
       "    </tr>\n",
       "    <tr>\n",
       "      <td>min</td>\n",
       "      <td>0.750000</td>\n",
       "      <td>0.000000</td>\n",
       "      <td>0.000000</td>\n",
       "      <td>0.000000</td>\n",
       "    </tr>\n",
       "    <tr>\n",
       "      <td>25%</td>\n",
       "      <td>23.000000</td>\n",
       "      <td>0.000000</td>\n",
       "      <td>0.000000</td>\n",
       "      <td>7.895800</td>\n",
       "    </tr>\n",
       "    <tr>\n",
       "      <td>50%</td>\n",
       "      <td>28.000000</td>\n",
       "      <td>0.000000</td>\n",
       "      <td>0.000000</td>\n",
       "      <td>15.045800</td>\n",
       "    </tr>\n",
       "    <tr>\n",
       "      <td>75%</td>\n",
       "      <td>35.000000</td>\n",
       "      <td>1.000000</td>\n",
       "      <td>0.000000</td>\n",
       "      <td>31.387500</td>\n",
       "    </tr>\n",
       "    <tr>\n",
       "      <td>max</td>\n",
       "      <td>80.000000</td>\n",
       "      <td>8.000000</td>\n",
       "      <td>5.000000</td>\n",
       "      <td>512.329200</td>\n",
       "    </tr>\n",
       "  </tbody>\n",
       "</table>\n",
       "</div>"
      ],
      "text/plain": [
       "              age  n_siblings_spouses       parch        fare\n",
       "count  627.000000          627.000000  627.000000  627.000000\n",
       "mean    29.631308            0.545455    0.379585   34.385399\n",
       "std     12.511818            1.151090    0.792999   54.597730\n",
       "min      0.750000            0.000000    0.000000    0.000000\n",
       "25%     23.000000            0.000000    0.000000    7.895800\n",
       "50%     28.000000            0.000000    0.000000   15.045800\n",
       "75%     35.000000            1.000000    0.000000   31.387500\n",
       "max     80.000000            8.000000    5.000000  512.329200"
      ]
     },
     "execution_count": 4,
     "metadata": {},
     "output_type": "execute_result"
    }
   ],
   "source": [
    "dftrain.describe()\n"
   ]
  },
  {
   "cell_type": "markdown",
   "metadata": {},
   "source": [
    "**Look at labeled data of both training and evaluation set**"
   ]
  },
  {
   "cell_type": "code",
   "execution_count": 5,
   "metadata": {},
   "outputs": [
    {
     "data": {
      "text/plain": [
       "0    0\n",
       "1    1\n",
       "2    1\n",
       "3    1\n",
       "4    0\n",
       "Name: survived, dtype: int64"
      ]
     },
     "execution_count": 5,
     "metadata": {},
     "output_type": "execute_result"
    }
   ],
   "source": [
    "y_train.head()"
   ]
  },
  {
   "cell_type": "markdown",
   "metadata": {},
   "source": [
    "**In the next few plots you can observe few more things in the dataset like distribution of age of passengers. Make good observations on the features, it might help you push your prediction accuracy**"
   ]
  },
  {
   "cell_type": "code",
   "execution_count": 6,
   "metadata": {},
   "outputs": [
    {
     "data": {
      "text/plain": [
       "0    0\n",
       "1    0\n",
       "2    1\n",
       "3    1\n",
       "4    1\n",
       "Name: survived, dtype: int64"
      ]
     },
     "execution_count": 6,
     "metadata": {},
     "output_type": "execute_result"
    }
   ],
   "source": [
    "y_eval.head()"
   ]
  },
  {
   "cell_type": "code",
   "execution_count": 7,
   "metadata": {},
   "outputs": [
    {
     "data": {
      "image/png": "[encoded data removed]",
      "text/plain": [
       "<Figure size 432x288 with 1 Axes>"
      ]
     },
     "metadata": {
      "needs_background": "light"
     },
     "output_type": "display_data"
    }
   ],
   "source": [
    "dftrain.age.hist(bins=20)\n",
    "plt.show()\n"
   ]
  },
  {
   "cell_type": "markdown",
   "metadata": {},
   "source": [
    "**Make some observations on the unfortundate :( data set**"
   ]
  },
  {
   "cell_type": "code",
   "execution_count": 8,
   "metadata": {},
   "outputs": [
    {
     "data": {
      "image/png": "[encoded data removed]",
      "text/plain": [
       "<Figure size 432x288 with 1 Axes>"
      ]
     },
     "metadata": {
      "needs_background": "light"
     },
     "output_type": "display_data"
    }
   ],
   "source": [
    "dftrain.embark_town.value_counts().plot(kind='barh')\n",
    "plt.show()\n"
   ]
  },
  {
   "cell_type": "markdown",
   "metadata": {},
   "source": [
    "**Survived passengers for each class**"
   ]
  },
  {
   "cell_type": "code",
   "execution_count": 9,
   "metadata": {},
   "outputs": [
    {
     "data": {
      "image/png": "[encoded data removed]",
      "text/plain": [
       "<Figure size 432x288 with 1 Axes>"
      ]
     },
     "metadata": {
      "needs_background": "light"
     },
     "output_type": "display_data"
    }
   ],
   "source": [
    "pd.concat([dftrain, y_train], axis=1).groupby('class').survived.mean().plot(kind='barh').set_xlabel('% survive')\n",
    "plt.show()\n"
   ]
  },
  {
   "cell_type": "markdown",
   "metadata": {},
   "source": [
    "**Alright! lets get started! by now you must be wondering how to run learning algorithms on categorial features(we care only about numbers right!). Dataset has categorial features like embark_town, deck, class etc. These are strings but all the algorithms need numericals right. So, we have to change categorial features to numerical features. There are three different ways to do that, here we present one and the easiest way to do that**"
   ]
  },
  {
   "cell_type": "code",
   "execution_count": 10,
   "metadata": {},
   "outputs": [
    {
     "data": {
      "text/plain": [
       "(264, 22)"
      ]
     },
     "execution_count": 10,
     "metadata": {},
     "output_type": "execute_result"
    }
   ],
   "source": [
    "# Get dummies\n",
    "dftrain = pd.get_dummies(dftrain, prefix_sep='_', drop_first=False)\n",
    "dfeval = pd.get_dummies(dfeval, prefix_sep='_', drop_first=False)\n",
    "dftrain.shape\n",
    "dfeval.shape\n"
   ]
  },
  {
   "cell_type": "markdown",
   "metadata": {},
   "source": [
    "**Here we are dropping one of the features to align training and evaluation datasets, you can use this to drop features you might consider unnecessary**"
   ]
  },
  {
   "cell_type": "code",
   "execution_count": 11,
   "metadata": {},
   "outputs": [],
   "source": [
    "dftrain = dftrain.drop(columns=\"deck_G\")"
   ]
  },
  {
   "cell_type": "code",
   "execution_count": 12,
   "metadata": {},
   "outputs": [
    {
     "data": {
      "text/plain": [
       "(627, 22)"
      ]
     },
     "execution_count": 12,
     "metadata": {},
     "output_type": "execute_result"
    }
   ],
   "source": [
    "dftrain.shape"
   ]
  },
  {
   "cell_type": "code",
   "execution_count": 13,
   "metadata": {},
   "outputs": [
    {
     "data": {
      "text/plain": [
       "(264, 22)"
      ]
     },
     "execution_count": 13,
     "metadata": {},
     "output_type": "execute_result"
    }
   ],
   "source": [
    "dfeval.shape\n"
   ]
  },
  {
   "cell_type": "markdown",
   "metadata": {},
   "source": [
    "$\\color{red}{\\textbf{TASK 1. }}$ *You will implement a Decision tree classifer on the Dataset.*"
   ]
  },
  {
   "cell_type": "markdown",
   "metadata": {},
   "source": [
    "**Decision Tree Classification**"
   ]
  },
  {
   "cell_type": "code",
   "execution_count": 14,
   "metadata": {},
   "outputs": [
    {
     "name": "stdout",
     "output_type": "stream",
     "text": [
      "Accuracy: 74.24242424242425 %\n"
     ]
    }
   ],
   "source": [
    " dtc = DecisionTreeClassifier(max_depth=1)\n",
    "dtc.fit(dftrain, y_train)\n",
    "y_pred = dtc.predict(dfeval)\n",
    "print(\"Accuracy:\",metrics.accuracy_score(y_eval, y_pred)*100,\"%\")"
   ]
  },
  {
   "cell_type": "markdown",
   "metadata": {},
   "source": [
    "$\\color{red}{\\textbf{TASK 2. }}$ *Now perform adaptive boosting for a decision tree classifer. Please play with the depth of the tree.*"
   ]
  },
  {
   "cell_type": "markdown",
   "metadata": {},
   "source": [
    "**Adaptive boosting for Decision Tree Classification**"
   ]
  },
  {
   "cell_type": "code",
   "execution_count": 15,
   "metadata": {},
   "outputs": [
    {
     "name": "stdout",
     "output_type": "stream",
     "text": [
      "Accuracy: 75.75757575757575 %\n"
     ]
    }
   ],
   "source": [
    "abc = AdaBoostClassifier(DecisionTreeClassifier(max_depth=3),n_estimators=50,\n",
    "                         learning_rate=1)\n",
    "# Train Adaboost Classifer\n",
    "model = abc.fit(dftrain, y_train)\n",
    "\n",
    "#Predict the response for test dataset\n",
    "y_pred = model.predict(dfeval)\n",
    "\n",
    "print(\"Accuracy:\",metrics.accuracy_score(y_eval, y_pred)*100,\"%\")"
   ]
  },
  {
   "cell_type": "markdown",
   "metadata": {},
   "source": [
    "$\\color{blue}{\\textit{Observations: }}$ In fact, when we run different values for max_depth, we see that the highest accuracies are attained somewhere around max_depth values of 100-500. This range is a ballpark estimate of that we will use later for our model."
   ]
  },
  {
   "cell_type": "code",
   "execution_count": 16,
   "metadata": {},
   "outputs": [
    {
     "name": "stdout",
     "output_type": "stream",
     "text": [
      "Max Depth: 5 \t Accuracy: 79.16666666666666 %\n",
      "Max Depth: 10 \t Accuracy: 80.68181818181817 %\n",
      "Max Depth: 50 \t Accuracy: 82.1969696969697 %\n",
      "Max Depth: 100 \t Accuracy: 82.95454545454545 %\n",
      "Max Depth: 500 \t Accuracy: 82.57575757575758 %\n",
      "Max Depth: 1000 \t Accuracy: 82.57575757575758 %\n"
     ]
    }
   ],
   "source": [
    "depth_vals = [5, 10, 50, 100, 500, 1000]\n",
    "\n",
    "for depth in depth_vals:\n",
    "    abc = AdaBoostClassifier(DecisionTreeClassifier(max_depth=depth),n_estimators=50,\n",
    "                         learning_rate=1)\n",
    "    # Train Adaboost Classifer\n",
    "    model = abc.fit(dftrain, y_train)\n",
    "    #Predict the response for test dataset\n",
    "    y_pred = model.predict(dfeval)\n",
    "    print(\"Max Depth:\",depth,\"\\t\",\"Accuracy:\",metrics.accuracy_score(y_eval, y_pred)*100,\"%\")"
   ]
  },
  {
   "cell_type": "markdown",
   "metadata": {},
   "source": [
    "$\\color{red}{\\textbf{TASK 3. }}$ *Using the SVM classifer on the dataset, play with different kernels and present your observations.*"
   ]
  },
  {
   "cell_type": "markdown",
   "metadata": {},
   "source": [
    "**Linear SVM classifier**"
   ]
  },
  {
   "cell_type": "code",
   "execution_count": 17,
   "metadata": {},
   "outputs": [
    {
     "name": "stdout",
     "output_type": "stream",
     "text": [
      "Accuracy: 75.37878787878788 %\n"
     ]
    }
   ],
   "source": [
    "svclassifier = SVC(kernel='linear')\n",
    "svclassifier.fit(dftrain, y_train)\n",
    "y_pred = svclassifier.predict(dfeval)\n",
    "print(\"Accuracy:\",metrics.accuracy_score(y_eval, y_pred)*100,\"%\")"
   ]
  },
  {
   "cell_type": "markdown",
   "metadata": {},
   "source": [
    "$\\color{blue}{\\textit{Observations: }}$ When testing different kernels - linear, sigmoid, rbf, degree-2 poly - on the SVC model, we see that the degree-2 poly attains the highest accuracy, followed by the linear kernel. (Any degree higher than 2 had a significantly longer computational time and thus was not considered.)"
   ]
  },
  {
   "cell_type": "code",
   "execution_count": 18,
   "metadata": {},
   "outputs": [
    {
     "name": "stdout",
     "output_type": "stream",
     "text": [
      "Kernel: linear \t Accuracy: 75.37878787878788 %\n",
      "Kernel: sigmoid \t Accuracy: 62.5 %\n",
      "Kernel: rbf \t Accuracy: 71.96969696969697 %\n",
      "Kernel: poly \t Accuracy: 79.16666666666666 %\n"
     ]
    }
   ],
   "source": [
    "kernel_types = ['linear','sigmoid','rbf','poly']\n",
    "\n",
    "for kern in kernel_types:\n",
    "    if kern != 'poly':\n",
    "        svclassifier = SVC(kernel=kern,gamma='auto')\n",
    "    else:\n",
    "        svclassifier = SVC(kernel=kern,gamma='auto',degree=2)\n",
    "    svclassifier.fit(dftrain, y_train)\n",
    "    y_pred = svclassifier.predict(dfeval)\n",
    "    print(\"Kernel:\", kern, \"\\t\", \"Accuracy:\",metrics.accuracy_score(y_eval, y_pred)*100,\"%\")"
   ]
  },
  {
   "cell_type": "markdown",
   "metadata": {},
   "source": [
    "$\\color{red}{\\textbf{TASK 4. }}$ *Apply Boosting to the SVM classifers.*"
   ]
  },
  {
   "cell_type": "code",
   "execution_count": 19,
   "metadata": {},
   "outputs": [
    {
     "name": "stdout",
     "output_type": "stream",
     "text": [
      "Accuracy: 74.24242424242425 %\n"
     ]
    }
   ],
   "source": [
    "\n",
    "svc=SVC(probability=True, kernel='linear')\n",
    "\n",
    "# Create adaboost classifer object\n",
    "abc =AdaBoostClassifier(n_estimators=90, base_estimator=svc,learning_rate=.01)\n",
    "\n",
    "# Train Adaboost Classifer\n",
    "model = abc.fit(dftrain, y_train)\n",
    "\n",
    "#Predict the response for test dataset\n",
    "y_pred = model.predict(dfeval)\n",
    "print(\"Accuracy:\",metrics.accuracy_score(y_eval, y_pred)*100,\"%\")\n"
   ]
  },
  {
   "cell_type": "markdown",
   "metadata": {},
   "source": [
    "**Use SVM classifier with polynomial or radial basis function as kernel and later apply boosting and share your observations**"
   ]
  },
  {
   "cell_type": "markdown",
   "metadata": {},
   "source": [
    "$\\color{blue}{\\textit{Observations: }}$\n",
    "\n",
    "Interestingly, applying AdaBoost to a SVM classifier (regardless of using 'linear', 'poly' (deg 2), or 'rbf' for kernel) does little to change the accuracy from the original counterparts. In fact, during some runs, AdaBoost lowered the accuracy for some classifiers. "
   ]
  },
  {
   "cell_type": "code",
   "execution_count": 20,
   "metadata": {},
   "outputs": [
    {
     "name": "stdout",
     "output_type": "stream",
     "text": [
      "NO BOOSTING.  Kernel: poly \t Accuracy: 66.28787878787878 %\n",
      "WITH BOOSTING.  Kernel: poly \t Accuracy: 64.01515151515152 %\n"
     ]
    }
   ],
   "source": [
    "# WITHOUT BOOSTING\n",
    "svclassifier = SVC(gamma='scale',kernel='poly', degree = 2, shrinking = True)\n",
    "svclassifier.fit(dftrain, y_train)\n",
    "y_pred = svclassifier.predict(dfeval)\n",
    "\n",
    "print(\"NO BOOSTING. \",\"Kernel: poly\",\"\\t\",\"Accuracy:\",metrics.accuracy_score(y_eval, y_pred)*100,\"%\")\n",
    "\n",
    "# WITH BOOSTING\n",
    "svcpoly = SVC(probability=True, gamma='scale',kernel='poly', degree=2)\n",
    "boostpoly = AdaBoostClassifier(n_estimators=90, base_estimator=svcpoly,learning_rate=.01)\n",
    "boostpolymodel = boostpoly.fit(dftrain, y_train)\n",
    "y_pred = boostpolymodel.predict(dfeval)\n",
    "\n",
    "print(\"WITH BOOSTING. \",\"Kernel: poly\",\"\\t\",\"Accuracy:\",metrics.accuracy_score(y_eval, y_pred)*100,\"%\")"
   ]
  },
  {
   "cell_type": "code",
   "execution_count": 21,
   "metadata": {},
   "outputs": [
    {
     "name": "stdout",
     "output_type": "stream",
     "text": [
      "NO BOOSTING.  Kernel: rbf \t Accuracy: 68.93939393939394 %\n",
      "WITH BOOSTING.  Kernel: rbf \t Accuracy: 68.93939393939394 %\n"
     ]
    }
   ],
   "source": [
    "# WITHOUT BOOSTING\n",
    "svclassifier2 = SVC(gamma='scale',kernel='rbf')\n",
    "svclassifier2.fit(dftrain, y_train)\n",
    "y_pred = svclassifier2.predict(dfeval)\n",
    "\n",
    "print(\"NO BOOSTING. \",\"Kernel: rbf\",\"\\t\",\"Accuracy:\",metrics.accuracy_score(y_eval, y_pred)*100,\"%\")\n",
    "\n",
    "# WITH BOOSTING\n",
    "svcRBF = SVC(probability=True, gamma='scale',kernel='rbf')\n",
    "boostRBF = AdaBoostClassifier(n_estimators=90, base_estimator=svcRBF,learning_rate=.01)\n",
    "boostRBFmodel = boostRBF.fit(dftrain, y_train)\n",
    "y_pred = boostRBFmodel.predict(dfeval)\n",
    "\n",
    "print(\"WITH BOOSTING. \",\"Kernel: rbf\",\"\\t\",\"Accuracy:\",metrics.accuracy_score(y_eval, y_pred)*100,\"%\")"
   ]
  },
  {
   "cell_type": "markdown",
   "metadata": {},
   "source": [
    "$\\color{red}{\\textbf{TASK 5. }}$ *Use your observations on the dataset, and using the above methods, try to improve the accuracy as much as you can. An ideal target is more than 85%.*"
   ]
  },
  {
   "cell_type": "markdown",
   "metadata": {},
   "source": [
    "**It's all yours now, get the best possible accuracy in doing so understand the concepts we learnt in class. Hold on fellas, one more thing, don't push yourself so hard to get 100% though!**"
   ]
  },
  {
   "cell_type": "markdown",
   "metadata": {},
   "source": [
    "$\\color{blue}{\\textit{Explanation: }}$\n",
    "\n",
    "From Task 4, we saw that applying AdaBoost to an SVM classifier did little to change the accuracy. Therefore, we should look at our options from Tasks 1-3. From all the models presented during Tasks 1-3, SVM with poly (deg-2) kernel had the highest accuracy, followed by AdaBoost for a decision tree. \n",
    "\n",
    "However, performing one run for SVM-poly took approximately 10 seconds, and iterating through at least 100 different hyperparameter combinations might not be ideal when considering computational time and power consumption required for the user's personal device (as well as the limitations of the CPU cores). Therefore, we will consider using the AdaBoost-ed decision trees (AdaBoost-DT) classifier in trying to increase its accuracy to at least 85%. \n",
    "\n",
    "Note that the provided AdaBoost-DT code block in Task 2 used hyper-parameters max_depth=3, n_estimators=50, and learning_rate=1. As previously discussed in Task 2, we also saw that max_depth values of 100-500 were ideal. For initial runs, we should keep n_estimators and learning_rate values somewhat close to the original code block.\n",
    "\n",
    "Therefore, it is best to use max_depth values of 100-500, n_estimators of 50-150, and learning_rate values of 0.5-1.5. We fine-tune the model even more as shown below.\n",
    "\n",
    "To view all results, de-comment the print statement and comment out the modulo if-statement. "
   ]
  },
  {
   "cell_type": "code",
   "execution_count": 22,
   "metadata": {},
   "outputs": [
    {
     "name": "stdout",
     "output_type": "stream",
     "text": [
      "15.625000 percent completed. Time elapsed: 9.786393s\n",
      "31.250000 percent completed. Time elapsed: 20.482819s\n",
      "46.875000 percent completed. Time elapsed: 31.446465s\n",
      "62.500000 percent completed. Time elapsed: 42.598741s\n",
      "78.125000 percent completed. Time elapsed: 52.346592s\n",
      "93.750000 percent completed. Time elapsed: 62.319366s\n",
      "Test complete. Time elapsed: 68.075758s\n"
     ]
    }
   ],
   "source": [
    "import time\n",
    "t_init = time.time()\n",
    "\n",
    "# Fine-tune hyper-parameter ranges\n",
    "depth_vals = np.arange(start=100, stop=500, step=50)\n",
    "est_vals = np.arange(start=50, stop=150, step=25)\n",
    "lr_vals = np.arange(start=0.5, stop=1.5, step=0.1)\n",
    "\n",
    "# Setup\n",
    "results = {}\n",
    "best_val = -1 \n",
    "best_dep, best_est, best_lr = -1, -1, -1\n",
    "best_abc = None\n",
    "\n",
    "# Create set of all possible hyper-parameter combos\n",
    "hyperparams = [(i,j,k) for i in depth_vals for j in est_vals for k in lr_vals]\n",
    "total = len(depth_vals) * len(est_vals) * len(lr_vals)\n",
    "count = 0\n",
    "\n",
    "# Test each combo\n",
    "for (i,j,k) in hyperparams:\n",
    "    abc = AdaBoostClassifier(DecisionTreeClassifier(max_depth=i),n_estimators=j,\n",
    "                         learning_rate=k)\n",
    "    model = abc.fit(dftrain, y_train)\n",
    "    y_pred = model.predict(dfeval)\n",
    "    accur_val = metrics.accuracy_score(y_eval, y_pred)\n",
    "    results[(i,j,k)] = accur_val\n",
    "    # print(\"Max Depth:\", i, \"Estimators:\", j, \"Learning Rate:\", k, \"Accuracy:\",accur_val*100,\"%\")\n",
    "    count += 1\n",
    "    if (count % 50) == 0:\n",
    "        print(\"%f percent completed. Time elapsed: %fs\" % (count/total*100, time.time()-t_init))\n",
    "    if accur_val > best_val:\n",
    "        best_val = accur_val\n",
    "        best_dep, best_est, best_lr = i,j,k\n",
    "        best_abc = abc\n",
    "    \n",
    "\n",
    "t_fin = time.time()\n",
    "print(\"Test complete. Time elapsed: %fs\" % (t_fin-t_init))"
   ]
  },
  {
   "cell_type": "code",
   "execution_count": 23,
   "metadata": {},
   "outputs": [
    {
     "name": "stdout",
     "output_type": "stream",
     "text": [
      "Best accuracy: 85.22727272727273 %\n",
      "Max Depth: 100 \t Estimators: 100 \t Learning Rate: 0.7999999999999999\n"
     ]
    }
   ],
   "source": [
    "print(\"Best accuracy:\", best_val*100, \"%\")\n",
    "print(\"Max Depth:\", best_dep, \"\\t\", \"Estimators:\", best_est, \"\\t\", \"Learning Rate:\", best_lr)"
   ]
  }
 ],
 "metadata": {
  "kernelspec": {
   "display_name": "Python 3",
   "language": "python",
   "name": "python3"
  },
  "language_info": {
   "codemirror_mode": {
    "name": "ipython",
    "version": 3
   },
   "file_extension": ".py",
   "mimetype": "text/x-python",
   "name": "python",
   "nbconvert_exporter": "python",
   "pygments_lexer": "ipython3",
   "version": "3.7.4"
  }
 },
 "nbformat": 4,
 "nbformat_minor": 2
}
